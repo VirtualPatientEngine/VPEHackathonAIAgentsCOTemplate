{
 "cells": [
  {
   "cell_type": "code",
   "execution_count": 4,
   "metadata": {},
   "outputs": [],
   "source": [
    "from stark_qa import load_qa, load_skb"
   ]
  },
  {
   "cell_type": "code",
   "execution_count": null,
   "metadata": {},
   "outputs": [],
   "source": []
  },
  {
   "cell_type": "code",
   "execution_count": 7,
   "metadata": {},
   "outputs": [],
   "source": [
    "dataset_name = \"prime\""
   ]
  },
  {
   "cell_type": "code",
   "execution_count": 8,
   "metadata": {},
   "outputs": [
    {
     "data": {
      "application/vnd.jupyter.widget-view+json": {
       "model_id": "01871b5f025f46a08c37072ad87a86f3",
       "version_major": 2,
       "version_minor": 0
      },
      "text/plain": [
       "qa/prime/split/test-0.1.index:   0%|          | 0.00/1.39k [00:00<?, ?B/s]"
      ]
     },
     "metadata": {},
     "output_type": "display_data"
    },
    {
     "data": {
      "application/vnd.jupyter.widget-view+json": {
       "model_id": "639fc74fff12455f8aee04a842e60489",
       "version_major": 2,
       "version_minor": 0
      },
      "text/plain": [
       "qa/prime/split/test.index:   0%|          | 0.00/14.0k [00:00<?, ?B/s]"
      ]
     },
     "metadata": {},
     "output_type": "display_data"
    },
    {
     "data": {
      "application/vnd.jupyter.widget-view+json": {
       "model_id": "96f7c10d7d1146e3bad7617440db45e9",
       "version_major": 2,
       "version_minor": 0
      },
      "text/plain": [
       "qa/prime/split/train.index:   0%|          | 0.00/30.9k [00:00<?, ?B/s]"
      ]
     },
     "metadata": {},
     "output_type": "display_data"
    },
    {
     "data": {
      "application/vnd.jupyter.widget-view+json": {
       "model_id": "58ccae8dbd7f4027992995eb899982db",
       "version_major": 2,
       "version_minor": 0
      },
      "text/plain": [
       "qa/prime/split/val.index:   0%|          | 0.00/11.2k [00:00<?, ?B/s]"
      ]
     },
     "metadata": {},
     "output_type": "display_data"
    },
    {
     "data": {
      "application/vnd.jupyter.widget-view+json": {
       "model_id": "b9cd971361724c08b0aef67c7fb747ef",
       "version_major": 2,
       "version_minor": 0
      },
      "text/plain": [
       "qa/prime/stark_qa/stark_qa.csv:   0%|          | 0.00/2.06M [00:00<?, ?B/s]"
      ]
     },
     "metadata": {},
     "output_type": "display_data"
    },
    {
     "data": {
      "application/vnd.jupyter.widget-view+json": {
       "model_id": "5495a676132f4b36899b5a676bc5f028",
       "version_major": 2,
       "version_minor": 0
      },
      "text/plain": [
       "(…)ark_qa/stark_qa_human_generated_eval.csv:   0%|          | 0.00/15.3k [00:00<?, ?B/s]"
      ]
     },
     "metadata": {},
     "output_type": "display_data"
    },
    {
     "data": {
      "application/vnd.jupyter.widget-view+json": {
       "model_id": "f668c159f7d44f43afaedd9fcfa95cfc",
       "version_major": 2,
       "version_minor": 0
      },
      "text/plain": [
       "(…)rk_qa_human_generated_eval_uncleaned.csv:   0%|          | 0.00/15.8k [00:00<?, ?B/s]"
      ]
     },
     "metadata": {},
     "output_type": "display_data"
    },
    {
     "name": "stdout",
     "output_type": "stream",
     "text": [
      "Use file from /root/.cache/huggingface/hub/datasets--snap-stanford--stark/snapshots/e3387ba9c873528521e125c3da687092d9872104/qa/prime/stark_qa/stark_qa_human_generated_eval_uncleaned.csv.\n"
     ]
    },
    {
     "data": {
      "application/vnd.jupyter.widget-view+json": {
       "model_id": "e52c2c51c74845fb9cfa275eaa19a900",
       "version_major": 2,
       "version_minor": 0
      },
      "text/plain": [
       "processed.zip:   0%|          | 0.00/28.0M [00:00<?, ?B/s]"
      ]
     },
     "metadata": {},
     "output_type": "display_data"
    },
    {
     "name": "stdout",
     "output_type": "stream",
     "text": [
      "Extracting downloaded processed data to /root/.cache/huggingface/hub/datasets--snap-stanford--stark/snapshots/e3387ba9c873528521e125c3da687092d9872104/skb/prime\n",
      "Loading from /root/.cache/huggingface/hub/datasets--snap-stanford--stark/snapshots/e3387ba9c873528521e125c3da687092d9872104/skb/prime/processed!\n"
     ]
    }
   ],
   "source": [
    "# Load the retrieval dataset\n",
    "qa_dataset = load_qa(dataset_name)\n",
    "idx_split = qa_dataset.get_idx_split()\n",
    "# Load the semi-structured knowledge base\n",
    "skb = load_skb(dataset_name, download_processed=True, root=None)"
   ]
  },
  {
   "cell_type": "code",
   "execution_count": 55,
   "metadata": {},
   "outputs": [],
   "source": [
    "query, q_id, answer_ids, _ = qa_dataset[16]"
   ]
  },
  {
   "cell_type": "code",
   "execution_count": 56,
   "metadata": {},
   "outputs": [
    {
     "data": {
      "text/plain": [
       "('What is the inherited dental disorder characterized by irregularities in both baby and adult teeth, with a birth incidence of 1 in 6000 to 1 in 8000?',\n",
       " [39179])"
      ]
     },
     "execution_count": 56,
     "metadata": {},
     "output_type": "execute_result"
    }
   ],
   "source": [
    "query, answer_ids"
   ]
  },
  {
   "cell_type": "code",
   "execution_count": 29,
   "metadata": {},
   "outputs": [
    {
     "data": {
      "text/plain": [
       "('Can you find a signaling pathway that interacts with RAD51, represses E2F-driven gene transcription affecting the G1 to S phase transition, and also downregulates DNA repair genes like RAD51 and RRM2 by binding to E2F6?',\n",
       " [128118])"
      ]
     },
     "execution_count": 29,
     "metadata": {},
     "output_type": "execute_result"
    }
   ],
   "source": [
    "query, answer_ids"
   ]
  },
  {
   "cell_type": "code",
   "execution_count": 8,
   "metadata": {},
   "outputs": [
    {
     "data": {
      "text/plain": [
       "[('anatomy', 'expression absent', 'gene/protein'),\n",
       " ('anatomy', 'expression present', 'gene/protein'),\n",
       " ('anatomy', 'parent-child', 'anatomy'),\n",
       " ('biological_process', 'interacts with', 'exposure'),\n",
       " ('biological_process', 'interacts with', 'gene/protein'),\n",
       " ('biological_process', 'parent-child', 'biological_process'),\n",
       " ('cellular_component', 'interacts with', 'exposure'),\n",
       " ('cellular_component', 'interacts with', 'gene/protein'),\n",
       " ('cellular_component', 'parent-child', 'cellular_component'),\n",
       " ('disease', 'associated with', 'gene/protein'),\n",
       " ('disease', 'contraindication', 'drug'),\n",
       " ('disease', 'indication', 'drug'),\n",
       " ('disease', 'linked to', 'exposure'),\n",
       " ('disease', 'off-label use', 'drug'),\n",
       " ('disease', 'parent-child', 'disease'),\n",
       " ('disease', 'phenotype absent', 'effect/phenotype'),\n",
       " ('disease', 'phenotype present', 'effect/phenotype'),\n",
       " ('drug', 'carrier', 'gene/protein'),\n",
       " ('drug', 'contraindication', 'disease'),\n",
       " ('drug', 'enzyme', 'gene/protein'),\n",
       " ('drug', 'indication', 'disease'),\n",
       " ('drug', 'off-label use', 'disease'),\n",
       " ('drug', 'side effect', 'effect/phenotype'),\n",
       " ('drug', 'synergistic interaction', 'drug'),\n",
       " ('drug', 'target', 'gene/protein'),\n",
       " ('drug', 'transporter', 'gene/protein'),\n",
       " ('effect/phenotype', 'associated with', 'gene/protein'),\n",
       " ('effect/phenotype', 'parent-child', 'effect/phenotype'),\n",
       " ('effect/phenotype', 'phenotype absent', 'disease'),\n",
       " ('effect/phenotype', 'phenotype present', 'disease'),\n",
       " ('effect/phenotype', 'side effect', 'drug'),\n",
       " ('exposure', 'interacts with', 'biological_process'),\n",
       " ('exposure', 'interacts with', 'cellular_component'),\n",
       " ('exposure', 'interacts with', 'gene/protein'),\n",
       " ('exposure', 'interacts with', 'molecular_function'),\n",
       " ('exposure', 'linked to', 'disease'),\n",
       " ('exposure', 'parent-child', 'exposure'),\n",
       " ('gene/protein', 'associated with', 'disease'),\n",
       " ('gene/protein', 'associated with', 'effect/phenotype'),\n",
       " ('gene/protein', 'carrier', 'drug'),\n",
       " ('gene/protein', 'enzyme', 'drug'),\n",
       " ('gene/protein', 'expression absent', 'anatomy'),\n",
       " ('gene/protein', 'expression present', 'anatomy'),\n",
       " ('gene/protein', 'interacts with', 'biological_process'),\n",
       " ('gene/protein', 'interacts with', 'cellular_component'),\n",
       " ('gene/protein', 'interacts with', 'exposure'),\n",
       " ('gene/protein', 'interacts with', 'molecular_function'),\n",
       " ('gene/protein', 'interacts with', 'pathway'),\n",
       " ('gene/protein', 'ppi', 'gene/protein'),\n",
       " ('gene/protein', 'target', 'drug'),\n",
       " ('gene/protein', 'transporter', 'drug'),\n",
       " ('molecular_function', 'interacts with', 'exposure'),\n",
       " ('molecular_function', 'interacts with', 'gene/protein'),\n",
       " ('molecular_function', 'parent-child', 'molecular_function'),\n",
       " ('pathway', 'interacts with', 'gene/protein'),\n",
       " ('pathway', 'parent-child', 'pathway')]"
      ]
     },
     "execution_count": 8,
     "metadata": {},
     "output_type": "execute_result"
    }
   ],
   "source": [
    "skb.get_tuples()"
   ]
  },
  {
   "cell_type": "code",
   "execution_count": 9,
   "metadata": {},
   "outputs": [
    {
     "data": {
      "text/plain": [
       "(['disease',\n",
       "  'gene/protein',\n",
       "  'molecular_function',\n",
       "  'drug',\n",
       "  'pathway',\n",
       "  'anatomy',\n",
       "  'effect/phenotype',\n",
       "  'biological_process',\n",
       "  'cellular_component',\n",
       "  'exposure'],\n",
       " ['ppi',\n",
       "  'carrier',\n",
       "  'enzyme',\n",
       "  'target',\n",
       "  'transporter',\n",
       "  'contraindication',\n",
       "  'indication',\n",
       "  'off-label use',\n",
       "  'synergistic interaction',\n",
       "  'associated with',\n",
       "  'parent-child',\n",
       "  'phenotype absent',\n",
       "  'phenotype present',\n",
       "  'side effect',\n",
       "  'interacts with',\n",
       "  'linked to',\n",
       "  'expression present',\n",
       "  'expression absent'])"
      ]
     },
     "execution_count": 9,
     "metadata": {},
     "output_type": "execute_result"
    }
   ],
   "source": [
    "skb.node_type_lst(), skb.rel_type_lst()"
   ]
  },
  {
   "cell_type": "code",
   "execution_count": 10,
   "metadata": {},
   "outputs": [
    {
     "name": "stdout",
     "output_type": "stream",
     "text": [
      "Number of nodes: 129375\n",
      "Number of edges: 8100498\n"
     ]
    }
   ],
   "source": [
    "print('Number of nodes:', skb.num_nodes())\n",
    "print('Number of edges:', skb.num_edges())"
   ]
  },
  {
   "cell_type": "code",
   "execution_count": 11,
   "metadata": {},
   "outputs": [
    {
     "data": {
      "text/plain": [
       "{'disease': ['name',\n",
       "  'details.mayo_complications',\n",
       "  'source',\n",
       "  'details.mondo_id',\n",
       "  'details.umls_description',\n",
       "  'details.mayo_prevention',\n",
       "  'details.mayo_symptoms',\n",
       "  'details.group_name_bert',\n",
       "  'details.mondo_name',\n",
       "  'details.mayo_risk_factors',\n",
       "  'id',\n",
       "  'details.mondo_definition',\n",
       "  'details.orphanet_definition',\n",
       "  'details.mayo_causes',\n",
       "  'details.group_id_bert',\n",
       "  'details.orphanet_management_and_treatment',\n",
       "  'details.orphanet_clinical_description',\n",
       "  'details.orphanet_prevalence',\n",
       "  'details.mayo_see_doc',\n",
       "  'details.orphanet_epidemiology',\n",
       "  'type'],\n",
       " 'gene/protein': ['details.alias',\n",
       "  'details.genomic_pos.end',\n",
       "  'details.genomic_pos.ensemblgene',\n",
       "  'name',\n",
       "  'details.genomic_pos.start',\n",
       "  'details.genomic_pos.chr',\n",
       "  'details.name',\n",
       "  'details.summary',\n",
       "  'details.notfound',\n",
       "  'source',\n",
       "  'details._id',\n",
       "  'id',\n",
       "  'details.genomic_pos.strand',\n",
       "  'details.genomic_pos',\n",
       "  'details._score',\n",
       "  'details.query',\n",
       "  'type'],\n",
       " 'molecular_function': ['source', 'id', 'name', 'type'],\n",
       " 'drug': ['name',\n",
       "  'details.category',\n",
       "  'details.half_life',\n",
       "  'source',\n",
       "  'details.indication',\n",
       "  'details.pathway',\n",
       "  'details.pharmacodynamics',\n",
       "  'details.atc_2',\n",
       "  'details.group',\n",
       "  'id',\n",
       "  'details.molecular_weight',\n",
       "  'details.atc_1',\n",
       "  'details.description',\n",
       "  'details.state',\n",
       "  'details.tpsa',\n",
       "  'details.atc_3',\n",
       "  'details.atc_4',\n",
       "  'details.protein_binding',\n",
       "  'details.clogp',\n",
       "  'details.mechanism_of_action',\n",
       "  'type'],\n",
       " 'pathway': ['details.releaseStatus',\n",
       "  'details.normalPathway.doi',\n",
       "  'name',\n",
       "  'details.stIdVersion',\n",
       "  'details.reviewStatus.className',\n",
       "  'details.crossReference',\n",
       "  'details.normalPathway.dbId',\n",
       "  'details.previousReviewStatus.schemaClass',\n",
       "  'details.normalPathway.stIdVersion',\n",
       "  'details.previousReviewStatus.name',\n",
       "  'source',\n",
       "  'details.goBiologicalProcess.schemaClass',\n",
       "  'details.relatedSpecies',\n",
       "  'details.summation',\n",
       "  'details.previousReviewStatus.dbId',\n",
       "  'details.className',\n",
       "  'details.stId',\n",
       "  'details.goBiologicalProcess.databaseName',\n",
       "  'details.isInDisease',\n",
       "  'details.precedingEvent',\n",
       "  'details.previousReviewStatus.definition',\n",
       "  'details.normalPathway.stId',\n",
       "  'details.name',\n",
       "  'details.speciesName',\n",
       "  'details.goBiologicalProcess.className',\n",
       "  'details.normalPathway.hasDiagram',\n",
       "  'details.normalPathway.className',\n",
       "  'details.hasEvent',\n",
       "  'details.orthologousEvent',\n",
       "  'details.reviewStatus.definition',\n",
       "  'details.disease',\n",
       "  'details.normalPathway.isInferred',\n",
       "  'details.isInferred',\n",
       "  'id',\n",
       "  'details.normalPathway.schemaClass',\n",
       "  'details.reviewStatus.schemaClass',\n",
       "  'details.doi',\n",
       "  'details.compartment',\n",
       "  'details.goBiologicalProcess.displayName',\n",
       "  'details.previousReviewStatus.displayName',\n",
       "  'details.reviewStatus.name',\n",
       "  'details.reviewStatus.displayName',\n",
       "  'details.normalPathway.name',\n",
       "  'details.goBiologicalProcess.definition',\n",
       "  'details.literatureReference',\n",
       "  'details.normalPathway.releaseStatus',\n",
       "  'details.normalPathway.releaseDate',\n",
       "  'details.normalPathway.displayName',\n",
       "  'details.goBiologicalProcess.name',\n",
       "  'details.goBiologicalProcess.accession',\n",
       "  'details.normalPathway.speciesName',\n",
       "  'details.species',\n",
       "  'details.dbId',\n",
       "  'details.displayName',\n",
       "  'details.goBiologicalProcess.url',\n",
       "  'details.hasDiagram',\n",
       "  'details.hasEHLD',\n",
       "  'details.previousReviewStatus.className',\n",
       "  'details.normalPathway.hasEHLD',\n",
       "  'details.definition',\n",
       "  'details.reviewStatus.dbId',\n",
       "  'details.releaseDate',\n",
       "  'details.figure',\n",
       "  'details.normalPathway.isInDisease',\n",
       "  'details.schemaClass',\n",
       "  'details.goBiologicalProcess.dbId',\n",
       "  'details.previousReviewStatus',\n",
       "  'type'],\n",
       " 'anatomy': ['source', 'id', 'name', 'type'],\n",
       " 'effect/phenotype': ['source', 'id', 'name', 'type'],\n",
       " 'biological_process': ['source', 'id', 'name', 'type'],\n",
       " 'cellular_component': ['source', 'id', 'name', 'type'],\n",
       " 'exposure': ['source', 'id', 'name', 'type']}"
      ]
     },
     "execution_count": 11,
     "metadata": {},
     "output_type": "execute_result"
    }
   ],
   "source": [
    "skb.node_attr_dict"
   ]
  },
  {
   "cell_type": "code",
   "execution_count": 25,
   "metadata": {},
   "outputs": [
    {
     "name": "stdout",
     "output_type": "stream",
     "text": [
      "- name: Ivermectin\n",
      "- type: drug\n",
      "- source: DrugBank\n",
      "- details:\n",
      "  - description: Ivermectin is a broad-spectrum anti-parasite medication. It was first marketed under the name Stromectol® and used against worms (except tapeworms), but, in 2012, it was approved for the topical treatment of head lice infestations in patients 6 months of age and older, and marketed under the name Sklice™ as well. Ivermectin is mainly used in humans in the treatment of onchocerciasis, but is also effective against other worm infestations (such as strongyloidiasis, ascariasis, trichuriasis and enterobiasis).\n",
      "  - half_life: 16 hours (also reported at 22-28 hours)\n",
      "  - indication: For the treatment of intestinal (i.e., nondisseminated) strongyloidiasis due to the nematode parasite <i>Strongyloides stercoralis</i>. Also for the treatment of onchocerciasis (river blindness) due to the nematode parasite <i>Onchocerca volvulus</i>. Can be used to treat scabies caused by <i>Sarcoptes scabiei</i>.\n",
      "  - mechanism_of_action: Ivermectin binds selectively and with high affinity to glutamate-gated chloride ion channels in invertebrate muscle and nerve cells of the microfilaria. This binding causes an increase in the permeability of the cell membrane to chloride ions and results in hyperpolarization of the cell, leading to paralysis and death of the parasite. Ivermectin also is believed to act as an agonist of the neurotransmitter gamma-aminobutyric acid (GABA), thereby disrupting GABA-mediated central nervous system (CNS) neurosynaptic transmission. Ivermectin may also impair normal intrauterine development of O. volvulus microfilariae and may inhibit their release from the uteri of gravid female worms.\n",
      "  - protein_binding: 93%\n",
      "  - pharmacodynamics: Ivermectin is a semisynthetic, anthelminitic agent. It is an avermectin which a group of pentacyclic sixteen-membered lactone (i.e. a macrocyclic lactone disaccharide) derived from the soil bacterium Streptomyces avermitilis. Avermectins are potent anti-parasitic agents. Ivermectin is the most common avermectin. It is a broad spectrum antiparasitic drug for oral administration. It is sometimes used to treat human onchocerciasis (river blindness). It is the mixture of 22,23-dihydro-avermectin B1a (at least 90%) and 22,23-dihydro-avermectin B1b (less than 10%).\n",
      "  - state: Ivermectin is a solid.\n",
      "  - atc_1: Ivermectin is anatomically related to antiparasitic products, insecticides and repellents and dermatologicals.\n",
      "  - atc_2: Ivermectin is in the therapeutic group of anthelmintics and other dermatological preparations.\n",
      "  - atc_3: Ivermectin is pharmacologically related to antinematodal agents and other dermatological preparations.\n",
      "  - atc_4: The chemical and functional group of  is avermectines and other dermatologicals.\n",
      "  - category: Ivermectin is part of Agents Causing Muscle Toxicity ; Agrochemicals ; Anthelmintics ; Anti-Bacterial Agents ; Anti-Infective Agents ; Antinematodal Agents ; Antiparasitic Agents ; Antiparasitic Products, Insecticides and Repellents ; Avermectines ; BCRP/ABCG2 Substrates ; Compounds used in a research, industrial, or household setting ; Cytochrome P-450 CYP3A Inducers ; Cytochrome P-450 CYP3A Inhibitors ; Cytochrome P-450 CYP3A Substrates ; Cytochrome P-450 CYP3A4 Inducers ; Cytochrome P-450 CYP3A4 Inducers (strength unknown) ; Cytochrome P-450 CYP3A4 Substrates ; Cytochrome P-450 Enzyme Inducers ; Cytochrome P-450 Enzyme Inhibitors ; Cytochrome P-450 Substrates ; Dermatologicals ; Insecticides ; Lactones ; OATP1B1/SLCO1B1 Inhibitors ; OATP1B3 inhibitors ; P-glycoprotein inducers ; P-glycoprotein inhibitors ; P-glycoprotein substrates ; Pediculicides ; Pesticides ; Polyketides ; Scabicides and Pediculicides ; Toxic Actions.\n",
      "  - group: Ivermectin is approved and investigational and vet_approved.\n",
      "  - molecular_weight: The molecular weight is 1736.18.\n",
      "- relations:\n",
      "  enzyme: {gene/protein: (CYP3A4),}\n",
      "  target: {gene/protein: (GABRB3, GLRA3),}\n",
      "  transporter: {gene/protein: (ABCC2, ABCG2, ABCC1, ABCB1, SLCO1B1, SLCO1B3),}\n",
      "  contraindication: {disease: (filariasis, loiasis),}\n",
      "  indication: {disease: (onchocerciasis, strongyloidiasis),}\n",
      "  synergistic_interaction: {drug: (Beclomethasone dipropionate, Betamethasone, Triamcinolone, Diethylstilbestrol, Liothyronine, Liotrix, Genistein, Ubidecarenone, Torasemide, Nelfinavir, Lovastatin, Ziprasidone, Phenytoin, Metoprolol, Dicoumarol, Conjugated estrogens, Etonogestrel, Desogestrel, Gefitinib, Meperidine, Duloxetine, Chlorpromazine, Raloxifene, Zidovudine, Ritonavir, Erlotinib, Ciprofloxacin, Nortriptyline, Methotrexate, Cephalexin, Clonidine, Enalapril, Medroxyprogesterone acetate, Chloroquine, Imatinib, Testosterone, Stavudine, Estrone, Tamoxifen, Warfarin, Lamivudine, Norethisterone, Irinotecan, Estradiol, Propofol, Clofazimine, Terbinafine, Tacrolimus, Quinidine, Repaglinide, Salmeterol, Phenprocoumon, Fexofenadine, Isoniazid, Norgestimate, Ethinylestradiol, Isotretinoin, Doxorubicin, Letrozole, Sulfamethoxazole, Fenofibrate, Rifampicin, Benzylpenicillin, Atazanavir, Atorvastatin, Rosuvastatin, Amiodarone, Captopril, Saquinavir, Dexamethasone, Gemfibrozil, Clomipramine, Fosphenytoin, Colchicine, Digitoxin, Acenocoumarol, Topiroxostat, Quercetin, Estrone sulfate, Dronedarone, Vandetanib, Cenobamate, Rufinamide, Simeprevir, Prucalopride, (R)-warfarin, Vismodegib, Pitavastatin, Rilpivirine, Ulipristal, Vemurafenib, Palbociclib, Nintedanib, Tenofovir alafenamide, Grazoprevir, Vinflunine, Pitolisant, Acalabrutinib, Istradefylline, Fostemsavir, Neratinib, Revefenacin, Dacomitinib, Glasdegib, Abemaciclib, Gilteritinib, Copanlisib, Darolutamide, Pexidartinib, Testosterone enanthate, Estradiol acetate, Estradiol benzoate, Estradiol cypionate, Estradiol dienanthate, Estradiol valerate, Tenofovir, Ripretinib, Elexacaftor, Niacin, Clofibrate, Metoclopramide, Cholic Acid, Ethanol, Dronabinol, Montelukast, Zafirlukast, Etoposide, Ifosfamide, Trabectedin, Propylthiouracil, Cannabidiol, Medical Cannabis, Nabiximols, Risedronic acid, Bumetanide, Drospirenone, Progesterone, Bempedoic acid, Mefloquine, Ranitidine, Vitamin D, Tucatinib, Cimetidine, Busulfan, Cobimetinib, Ticlopidine, Cytarabine, Caffeine, Theophylline, Omeprazole, Lansoprazole, Paclitaxel, Docetaxel, Dasatinib, Norelgestromin, Methyldopa, Carbimazole, Cyproterone acetate, Norgestrel, Nizatidine, Procainamide, Thiotepa, Sumatriptan, Safinamide, Procarbazine, Ethyl biscoumacetate, Cyclosporine, Erythromycin, Sildenafil, Indinavir, Terfenadine, Levonorgestrel, Amlodipine, Sorafenib, Cerivastatin, Teniposide, Haloperidol, Lercanidipine, Cyclophosphamide, Vincristine, Carbamazepine, Cisapride, Astemizole, Simvastatin, Mycophenolate mofetil, Mifepristone, Sirolimus, Triazolam, Buprenorphine, Fluvastatin, Pimozide, Sunitinib, Trastuzumab emtansine, Romidepsin, Temsirolimus, Ambrisentan, Midostaurin, Axitinib, Gestodene, Cabazitaxel, Hydroxyprogesterone caproate, Crizotinib, Ponatinib, Idelalisib, Cobicistat, Olaparib, Daclatasvir, Paritaprevir, Asunaprevir, Isavuconazole, Letermovir, Rucaparib, Bortezomib, Venlafaxine, Vinorelbine, Zolpidem, Prochlorperazine, Vinblastine, Doxazosin, Bicalutamide, Rabeprazole, St. John's Wort, Everolimus, Zuclopenthixol, Fusidic acid, Nilotinib, Pazopanib, Panobinostat, Netupitant, Dasabuvir, Rolapitant, Ixazomib, Lasmiditan, Elagolix, Fedratinib, Levosalbutamol, Ipecac, Enasidenib, Remdesivir, Tacrine, Trimethoprim, Albendazole, Norfloxacin, Hesperetin, Leflunomide, Ofloxacin, Aminophylline, Dovitinib, Eltrombopag, Teriflunomide, Pomalidomide, Tasimelteon, Osimertinib, Capmatinib, Abametapir, Voxilaprevir, Lorazepam, Phentermine, Dofetilide, Azithromycin, Pantoprazole, Methysergide, Cabergoline, Vindesine, Dihydroergotamine, Megestrol acetate, Caspofungin, Bosentan, Amphotericin B, Ergotamine, Ethynodiol diacetate, Conivaptan, Ezetimibe, Levacetylmethadol, Mestranol, Bezafibrate, Pranlukast, Roflumilast, Ixabepilone, Tolvaptan, Lacosamide, Bosutinib, Fosaprepitant, Lomitapide, Brentuximab vedotin, Ruxolitinib, Linagliptin, Regorafenib, Dabrafenib, Vorapaxar, Suvorexant, Ceritinib, Dienogest, Sonidegib, Tianeptine, Norethynodrel, Dihydroergocornine, Selexipag, Venetoclax, Velpatasvir, Gestrinone, Nomegestrol, Ribociclib, Ebastine, Baricitinib, Apalutamide, Duvelisib, Entrectinib, Fostamatinib, Alpelisib, Erdafitinib, Brigatinib, Siponimod, Lynestrenol, 9-aminocamptothecin, Lefamulin, Tazemetostat, Methylprednisone, Dihydroergocristine, Diphenadione, Dihydroergocryptine, Chlormadinone, Quingestanol, Demegestone, Etynodiol, Glecaprevir, Nomegestrol acetate, (S)-Warfarin, Ivosidenib, Norethindrone enanthate, Zanubrutinib, Mevastatin, Valsartan, Coumarin, Avatrombopag, Fluindione, Cladribine, Telmisartan, Digoxin, Famciclovir, Naltrexone, Raltegravir, Pibrentasvir, Minocycline, Sulfasalazine, Cholecystokinin, Eprosartan, Fimasartan, Dinoprostone, Iloprost, Ciprofibrate, Fenofibric acid, Somatotropin, Allylestrenol, Naringenin, Daidzin, Leuprolide, Nafarelin, Baclofen, Temocapril, Isosorbide, Tafamidis, Alectinib, Eluxadoline, Afatinib, Atrasentan, Pravastatin, Infliximab, Phenindione, Ouabain, Pamidronic acid, Alendronic acid, Ibandronate, Cholesterol, Levamisole, Elacridar, Lonidamine, Taurocholic acid, Metreleptin, Gossypol, Octylphenoxy polyethoxyethanol, p-Coumaric acid, Novobiocin, Penicillamine, Gimatecan, Gadoxetic acid, Technetium Tc-99m mebrofenin, Ganciclovir, Sincalide, Daptomycin, Lactulose, Acipimox, Mebeverine, 4-hydroxycoumarin, Trestolone, Cloprostenol, Triptolide, Clorindione, Ormeloxifene, Tioclomarol, Norgestrienone, Picosulfuric acid, BCG vaccine, Typhoid vaccine, Vibrio cholerae CVD 103-HgR strain live antigen, Etofibrate, Simfibrate, Ronifibrate, Aluminium clofibrate, Clofibride, Emetine),}\n",
      "  side_effect: {effect/phenotype: (Edema, Inflammatory abnormality of the skin, Hyperhidrosis, Keratitis, Abdominal distention, Fever, Pain, Seizure, Headache, Dyspnea, Tremor, Encephalopathy, Vomiting, Abdominal pain, Lymphadenopathy, Hematuria, Back pain, Myalgia, Tachycardia, Hepatitis, Respiratory distress, Arthralgia, Blindness, Vertigo, Lethargy, Fatigue, Palpebral edema, Pruritus, Cough, Confusion, Eosinophilia, Chest pain, Bowel incontinence, Facial edema, Coma, Leukopenia, Nausea, Apathy, Dry skin, Excessive daytime somnolence, Difficulty standing, Poor appetite, Peripheral edema),}\n"
     ]
    }
   ],
   "source": [
    "node_id = 15450\n",
    "print(skb.get_doc_info(node_id, add_rel=True))"
   ]
  },
  {
   "cell_type": "code",
   "execution_count": 16,
   "metadata": {},
   "outputs": [
    {
     "name": "stdout",
     "output_type": "stream",
     "text": [
      "- relations:\n",
      "  enzyme: {gene/protein: (CYP3A4),}\n",
      "  target: {gene/protein: (GABRB3, GLRA3),}\n",
      "  transporter: {gene/protein: (SLCO1B1, ABCB1, ABCC2, ABCG2, SLCO1B3),}\n",
      "  contraindication: {disease: (loiasis, filariasis),}\n",
      "  indication: {disease: (strongyloidiasis, onchocerciasis),}\n",
      "  synergistic_interaction: {drug: (Baricitinib, Etofibrate, Estradiol dienanthate, Ponatinib, Voxilaprevir),}\n",
      "  side_effect: {effect/phenotype: (Respiratory distress, Vertigo, Back pain, Leukopenia, Pruritus),}\n"
     ]
    }
   ],
   "source": [
    "print(skb.get_rel_info(answer_ids[0], n_rel=5))"
   ]
  },
  {
   "cell_type": "code",
   "execution_count": 26,
   "metadata": {},
   "outputs": [],
   "source": [
    "node_id = 0\n",
    "neighbor_lst = skb.get_neighbor_nodes(node_id, edge_type='*')"
   ]
  },
  {
   "cell_type": "code",
   "execution_count": 19,
   "metadata": {},
   "outputs": [
    {
     "data": {
      "text/plain": [
       "'drug'"
      ]
     },
     "execution_count": 19,
     "metadata": {},
     "output_type": "execute_result"
    }
   ],
   "source": [
    "node_id = 20000\n",
    "skb.get_node_type_by_id(node_id)"
   ]
  },
  {
   "cell_type": "code",
   "execution_count": 37,
   "metadata": {},
   "outputs": [],
   "source": [
    "import ollama_utils"
   ]
  },
  {
   "cell_type": "code",
   "execution_count": 39,
   "metadata": {},
   "outputs": [],
   "source": [
    "from langchain_ollama import OllamaLLM"
   ]
  },
  {
   "cell_type": "code",
   "execution_count": 41,
   "metadata": {},
   "outputs": [],
   "source": [
    "import ollama"
   ]
  },
  {
   "cell_type": "code",
   "execution_count": 46,
   "metadata": {},
   "outputs": [
    {
     "data": {
      "text/plain": [
       "'/root/capsule/code'"
      ]
     },
     "execution_count": 46,
     "metadata": {},
     "output_type": "execute_result"
    }
   ],
   "source": [
    "pwd"
   ]
  },
  {
   "cell_type": "code",
   "execution_count": 48,
   "metadata": {},
   "outputs": [],
   "source": [
    "import langchain_ollama\n",
    "from langchain_community.cache import SQLiteCache\n",
    "langchain_cache = SQLiteCache(database_path=f\"../scratch/langchain_cache.db\")\n",
    "llm = OllamaLLM(model=\"llama3.1\", cache=langchain_cache)"
   ]
  },
  {
   "cell_type": "code",
   "execution_count": 54,
   "metadata": {},
   "outputs": [
    {
     "name": "stdout",
     "output_type": "stream",
     "text": [
      "Traceback (most recent call last):\n",
      "  File \"/root/capsule/code/eval.py\", line 18, in <module>\n",
      "    from .vss import  VSS\n",
      "ImportError: attempted relative import with no known parent package\n",
      "\u001b[0m"
     ]
    }
   ],
   "source": [
    "!python eval.py --dataset prime --model llm --emb_dir emb/ --output_dir output/ --emb_model text-embedding-ada-002 --split test --save_pred "
   ]
  },
  {
   "cell_type": "code",
   "execution_count": 68,
   "metadata": {},
   "outputs": [
    {
     "name": "stdout",
     "output_type": "stream",
     "text": [
      "Traceback (most recent call last):\n",
      "  File \"/root/capsule/code/eval.py\", line 18, in <module>\n",
      "    import LLMRanker.py\n",
      "  File \"/root/capsule/code/LLMRanker.py\", line 5, in <module>\n",
      "    from vss.py import VSS\n",
      "  File \"/root/capsule/code/vss.py\", line 4, in <module>\n",
      "    from stark_model.py import ModelForSTaRKQA\n",
      "  File \"/root/capsule/code/stark_model.py\", line 8, in <module>\n",
      "    from stark_qa.tools.local_encoder import get_llm2vec_embeddings, get_gritlm_embeddings\n",
      "ModuleNotFoundError: No module named 'stark_qa.tools.local_encoder'\n",
      "\u001b[0m"
     ]
    }
   ],
   "source": [
    "!python eval.py --dataset prime --model LLMReranker --emb_dir emb/ --output_dir output/  --emb_model text-embedding-ada-002 --split test --llm_model llm --save_pred"
   ]
  },
  {
   "cell_type": "code",
   "execution_count": 81,
   "metadata": {},
   "outputs": [],
   "source": [
    "from stark_qa.tools.graph import k_hop_subgraph\n",
    "\n",
    "def get_subgraph(skb, node_idx, num_hops):\n",
    "    subset, edge_index, _, edge_mask = k_hop_subgraph(\n",
    "    node_idx, num_hops, skb.edge_index,\n",
    "    num_nodes = skb.num_nodes()\n",
    "    )\n",
    "    node_types = skb.node_types[subset]\n",
    "    edge_types = skb.edge_types[edge_mask]\n",
    "    return subset, edge_index, node_types, edge_types\n",
    "\n",
    "subset, edge_index, node_types, edge_types = get_subgraph(skb, 0, 3)"
   ]
  },
  {
   "cell_type": "code",
   "execution_count": 83,
   "metadata": {},
   "outputs": [],
   "source": [
    "node_id = 0\n",
    "neighbor_lst = skb.get_neighbor_nodes(node_id, edge_type='*')\n"
   ]
  },
  {
   "cell_type": "code",
   "execution_count": 84,
   "metadata": {},
   "outputs": [
    {
     "data": {
      "text/plain": [
       "[111,\n",
       " 183,\n",
       " 315,\n",
       " 352,\n",
       " 816,\n",
       " 1736,\n",
       " 1885,\n",
       " 2215,\n",
       " 2609,\n",
       " 2894,\n",
       " 3406,\n",
       " 3521,\n",
       " 5140,\n",
       " 5629,\n",
       " 6025,\n",
       " 6038,\n",
       " 6055,\n",
       " 7026,\n",
       " 7146,\n",
       " 8043,\n",
       " 8889,\n",
       " 9221,\n",
       " 9927,\n",
       " 10535,\n",
       " 11457,\n",
       " 12342,\n",
       " 12917,\n",
       " 34159,\n",
       " 45987,\n",
       " 54016,\n",
       " 56241,\n",
       " 56879,\n",
       " 57382,\n",
       " 63112,\n",
       " 63117,\n",
       " 63123,\n",
       " 63136,\n",
       " 63148,\n",
       " 63173,\n",
       " 63181,\n",
       " 63223,\n",
       " 63359,\n",
       " 63370,\n",
       " 63372,\n",
       " 63376,\n",
       " 63377,\n",
       " 63426,\n",
       " 63430,\n",
       " 63431,\n",
       " 63464,\n",
       " 63465,\n",
       " 63466,\n",
       " 63481,\n",
       " 63484,\n",
       " 63500,\n",
       " 63501,\n",
       " 63584,\n",
       " 63604,\n",
       " 63674,\n",
       " 63684,\n",
       " 63704,\n",
       " 63713,\n",
       " 63744,\n",
       " 63745,\n",
       " 63772,\n",
       " 63824,\n",
       " 63826,\n",
       " 63830,\n",
       " 63921,\n",
       " 64065,\n",
       " 64074,\n",
       " 64311,\n",
       " 64312,\n",
       " 64313,\n",
       " 64314,\n",
       " 64315,\n",
       " 64316,\n",
       " 64317,\n",
       " 64323,\n",
       " 64331,\n",
       " 64332,\n",
       " 64334,\n",
       " 64337,\n",
       " 64338,\n",
       " 64339,\n",
       " 64352,\n",
       " 64391,\n",
       " 64395,\n",
       " 64427,\n",
       " 64460,\n",
       " 64476,\n",
       " 64477,\n",
       " 64485,\n",
       " 64520,\n",
       " 64521,\n",
       " 64523,\n",
       " 64544,\n",
       " 64545,\n",
       " 64546,\n",
       " 64551,\n",
       " 64565,\n",
       " 64626,\n",
       " 64675,\n",
       " 64680,\n",
       " 64766,\n",
       " 64787,\n",
       " 64796,\n",
       " 64798,\n",
       " 64799,\n",
       " 64813,\n",
       " 64814,\n",
       " 64863,\n",
       " 64902,\n",
       " 65076,\n",
       " 65138,\n",
       " 65415,\n",
       " 65557,\n",
       " 65990,\n",
       " 66050,\n",
       " 66747,\n",
       " 66760,\n",
       " 67143,\n",
       " 67302,\n",
       " 68030,\n",
       " 69442,\n",
       " 69443,\n",
       " 69864,\n",
       " 71196,\n",
       " 77219,\n",
       " 129373,\n",
       " 129374]"
      ]
     },
     "execution_count": 84,
     "metadata": {},
     "output_type": "execute_result"
    }
   ],
   "source": [
    "neighbor_lst"
   ]
  },
  {
   "cell_type": "code",
   "execution_count": 1,
   "metadata": {},
   "outputs": [],
   "source": [
    "import networkx as nx\n",
    "import matplotlib.pyplot as plt\n",
    "from stark_qa.tools.graph import k_hop_subgraph\n",
    "from stark_qa import load_skb, load_qa\n",
    "from langchain_community.graphs import NetworkxEntityGraph"
   ]
  },
  {
   "cell_type": "code",
   "execution_count": 9,
   "metadata": {},
   "outputs": [
    {
     "data": {
      "text/plain": [
       "(torch.Size([187]), torch.Size([6654]))"
      ]
     },
     "execution_count": 9,
     "metadata": {},
     "output_type": "execute_result"
    }
   ],
   "source": [
    "subset, edge_index, _, edge_mask = k_hop_subgraph(5, num_hops=1, edge_index=skb.edge_index)\n",
    "g_node_types = skb.node_types[subset]\n",
    "g_edge_types = skb.edge_types[edge_mask]\n",
    "\n",
    "g_node_types.shape, g_edge_types.shape\n",
    "\n",
    "\n",
    "\n"
   ]
  },
  {
   "cell_type": "code",
   "execution_count": 10,
   "metadata": {},
   "outputs": [],
   "source": [
    "G = nx.DiGraph()\n",
    "\n",
    "node_list = subset.numpy()\n",
    "edge_list = edge_index.transpose(1, 0).numpy()\n",
    "edge_types = g_edge_types.numpy()"
   ]
  },
  {
   "cell_type": "code",
   "execution_count": 26,
   "metadata": {},
   "outputs": [],
   "source": [
    "# Using networkx to visualize the graph\n",
    "\n",
    "for n in node_list:\n",
    "    G.add_node(skb[n].name)\n",
    "for i, e in enumerate(edge_list):\n",
    "    G.add_edge(skb[e[0]].name, skb[e[1]].name, relation=skb.edge_type_dict[edge_types[i]], label=skb.edge_type_dict[edge_types[i]])\n",
    "\n",
    "NetworkxEntityGraph(G).write_to_gml('/scratch/gml/1')\n"
   ]
  },
  {
   "cell_type": "code",
   "execution_count": 13,
   "metadata": {},
   "outputs": [
    {
     "data": {
      "text/plain": [
       "<networkx.classes.digraph.DiGraph at 0x7fd4e65b5ea0>"
      ]
     },
     "execution_count": 13,
     "metadata": {},
     "output_type": "execute_result"
    }
   ],
   "source": [
    "G\n"
   ]
  },
  {
   "cell_type": "code",
   "execution_count": 27,
   "metadata": {},
   "outputs": [
    {
     "name": "stderr",
     "output_type": "stream",
     "text": [
      "2024-10-15 09:40:17.087 Thread 'MainThread': missing ScriptRunContext! This warning can be ignored when running in bare mode.\n",
      "2024-10-15 09:40:17.087 Thread 'MainThread': missing ScriptRunContext! This warning can be ignored when running in bare mode.\n",
      "2024-10-15 09:40:17.160 Thread 'MainThread': missing ScriptRunContext! This warning can be ignored when running in bare mode.\n",
      "2024-10-15 09:40:17.161 Thread 'MainThread': missing ScriptRunContext! This warning can be ignored when running in bare mode.\n"
     ]
    },
    {
     "data": {
      "text/plain": [
       "DeltaGenerator()"
      ]
     },
     "execution_count": 27,
     "metadata": {},
     "output_type": "execute_result"
    }
   ],
   "source": [
    "import gravis\n",
    "import networkx as nx\n",
    "from langchain_community.graphs import NetworkxEntityGraph\n",
    "import streamlit.components.v1 as components\n",
    "import numpy as np\n",
    "import streamlit as st\n",
    "\n",
    "\n",
    "\n",
    "KG = NetworkxEntityGraph().from_gml('/scratch/gml/1')\n",
    "st.markdown(\"### Initial Graph\")\n",
    "\n",
    "G = nx.DiGraph()\n",
    "G.add_nodes_from(np.unique(np.array([t[0] for t in KG.get_triples()] + [t[1] for t in KG.get_triples()])))\n",
    "\n",
    "for t in KG.get_triples():\n",
    "\n",
    "    G.add_edge(t[0], t[1], label=t[2])\n",
    "\n",
    "\n",
    "\n",
    "\n",
    "fig = gravis.d3(G,\n",
    "\n",
    "            show_edge_label=True,\n",
    "\n",
    "            edge_label_data_source='label',\n",
    "\n",
    "            edge_curvature=0.25,\n",
    "\n",
    "            zoom_factor=2.0,\n",
    "\n",
    "            many_body_force_strength=-1000)\n",
    "\n",
    "components.html(fig.to_html(), height=600)\n"
   ]
  },
  {
   "cell_type": "code",
   "execution_count": 28,
   "metadata": {},
   "outputs": [
    {
     "name": "stdout",
     "output_type": "stream",
     "text": [
      "Loading from /scratch/prime/processed!\n"
     ]
    },
    {
     "name": "stderr",
     "output_type": "stream",
     "text": [
      "2024-10-15 09:47:47.275 Thread 'MainThread': missing ScriptRunContext! This warning can be ignored when running in bare mode.\n",
      "2024-10-15 09:47:47.276 Thread 'MainThread': missing ScriptRunContext! This warning can be ignored when running in bare mode.\n",
      "2024-10-15 09:47:47.276 Thread 'MainThread': missing ScriptRunContext! This warning can be ignored when running in bare mode.\n",
      "2024-10-15 09:47:47.277 Thread 'MainThread': missing ScriptRunContext! This warning can be ignored when running in bare mode.\n",
      "2024-10-15 09:47:47.278 Thread 'MainThread': missing ScriptRunContext! This warning can be ignored when running in bare mode.\n",
      "2024-10-15 09:47:47.278 Thread 'MainThread': missing ScriptRunContext! This warning can be ignored when running in bare mode.\n",
      "2024-10-15 09:47:47.279 Session state does not function when running a script without `streamlit run`\n",
      "2024-10-15 09:47:47.279 Thread 'MainThread': missing ScriptRunContext! This warning can be ignored when running in bare mode.\n",
      "2024-10-15 09:47:47.280 Thread 'MainThread': missing ScriptRunContext! This warning can be ignored when running in bare mode.\n",
      "2024-10-15 09:47:47.281 Thread 'MainThread': missing ScriptRunContext! This warning can be ignored when running in bare mode.\n",
      "2024-10-15 09:47:47.281 Thread 'MainThread': missing ScriptRunContext! This warning can be ignored when running in bare mode.\n",
      "2024-10-15 09:47:47.282 Thread 'MainThread': missing ScriptRunContext! This warning can be ignored when running in bare mode.\n",
      "2024-10-15 09:47:47.282 Thread 'MainThread': missing ScriptRunContext! This warning can be ignored when running in bare mode.\n",
      "2024-10-15 09:47:47.283 Thread 'MainThread': missing ScriptRunContext! This warning can be ignored when running in bare mode.\n"
     ]
    }
   ],
   "source": [
    "    skb = load_skb(\"prime\", download_processed=True, root=\"/scratch\")\n",
    "    qa_dict = {\"What drugs target the CYP3A4 enzyme and are used to treat strongyloidiasis?\":15450, \n",
    "                \"Please find genes or proteins interacting with the High calcium permeable postsynaptic nicotinic acetylcholine receptors pathway and linked to major affective disorder etiology.\":33815, \n",
    "                \"What disease is linked to the HTR1A gene/protein and causes recurring fevers during the luteal phase of the menstrual cycle in women?\":29620,\n",
    "                \"Which pathway is subordinate to 'Metabolic disorders of biological oxidation enzymes' and involved in adrenal cortical hormone biosynthesis?\":128582,\n",
    "                \"What is the inherited dental disorder characterized by irregularities in both baby and adult teeth, with a birth incidence of 1 in 6000 to 1 in 8000?\":39179\n",
    "                }\n",
    "    st.title(\"Pick a question\")\n",
    "    selected_model = st.selectbox(\"Select a query:\", options=list(qa_dict.keys()))\n",
    "    if st.button(\"Find!\"):\n",
    "        #placeholder = st.empty()\n",
    "        #full_response = \"### here are  some datasets that I found, related to your question:   \\n\"\n",
    "\n",
    "        subset, edge_index, _, edge_mask = k_hop_subgraph(qa_dict[selected_model], num_hops=1, edge_index=skb.edge_index)\n",
    "\n",
    "        g_node_types = skb.node_types[subset]\n",
    "        g_edge_types = skb.edge_types[edge_mask]\n",
    "\n",
    "        G = nx.DiGraph()\n",
    "\n",
    "        node_list = subset.numpy()\n",
    "        edge_list = edge_index.transpose(1, 0).numpy()\n",
    "        edge_types = g_edge_types.numpy()\n",
    "\n",
    "        for n in node_list:\n",
    "            G.add_node(skb[n].name)\n",
    "        for i, e in enumerate(edge_list):\n",
    "            G.add_edge(skb[e[0]].name, skb[e[1]].name, relation=skb.edge_type_dict[edge_types[i]], label=skb.edge_type_dict[edge_types[i]])\n",
    "\n",
    "        pos = nx.spring_layout(G)\n",
    "        nx.draw(G, pos, with_labels=True)\n",
    "        edge_labels = nx.get_edge_attributes(G, 'label')\n",
    "        nx.draw_networkx_edge_labels(G, pos, edge_labels=edge_labels)\n",
    "\n",
    "        fig = gravis.d3(G,\n",
    "\n",
    "            show_edge_label=True,\n",
    "\n",
    "            edge_label_data_source='label',\n",
    "\n",
    "            edge_curvature=0.25,\n",
    "\n",
    "            zoom_factor=2.0,\n",
    "\n",
    "            many_body_force_strength=-1000)\n",
    "\n",
    "        components.html(fig.to_html(), height=600)"
   ]
  },
  {
   "cell_type": "code",
   "execution_count": 43,
   "metadata": {},
   "outputs": [],
   "source": [
    "        subset, edge_index, _, edge_mask = k_hop_subgraph([150], num_hops=1, edge_index=skb.edge_index)\n",
    "\n",
    "        g_node_types = skb.node_types[subset]\n",
    "        g_edge_types = skb.edge_types[edge_mask]\n",
    "\n",
    "        G = nx.DiGraph()\n",
    "\n",
    "        node_list = subset.numpy()\n",
    "        edge_list = edge_index.transpose(1, 0).numpy()\n",
    "        edge_types = g_edge_types.numpy()\n",
    "\n",
    "        for n in node_list:\n",
    "            G.add_node(skb[n].name)\n",
    "        for i, e in enumerate(edge_list):\n",
    "            G.add_edge(skb[e[0]].name, skb[e[1]].name, relation=skb.edge_type_dict[edge_types[i]], label=skb.edge_type_dict[edge_types[i]])\n"
   ]
  },
  {
   "cell_type": "code",
   "execution_count": 45,
   "metadata": {},
   "outputs": [
    {
     "data": {
      "text/plain": [
       "tensor([1, 1, 1, 1, 1, 1, 1, 1, 1, 1, 1, 1, 1, 1, 1, 1, 1, 1, 1, 1, 1, 1, 1, 1,\n",
       "        1, 1, 1, 1, 1, 1, 1, 1, 1, 1, 1, 1, 1, 1, 1, 1, 1, 1, 1, 1, 1, 1, 1, 1,\n",
       "        1, 1, 1, 1, 1, 1, 3, 3, 3, 3, 3, 3, 3, 3, 3, 6, 6, 0, 0, 0, 0, 0, 0, 0,\n",
       "        0, 0, 0, 0, 0, 0, 0, 0, 0, 0, 0, 0, 0, 0, 0, 0, 0, 0, 0, 0, 0, 0, 0, 0,\n",
       "        0, 0, 0, 0, 0, 0, 0, 0, 0, 0, 0, 0, 0, 0, 0, 0, 0, 0, 0, 0, 0, 0, 0, 0,\n",
       "        0, 0, 0, 7, 7, 7, 7, 7, 7, 7, 7, 7, 7, 7, 7, 7, 7, 7, 7, 7, 7, 2, 2, 2,\n",
       "        2, 8, 8, 8, 8, 8, 8, 8, 8, 1, 4, 4, 4, 4, 4, 4, 5, 5, 5, 5, 5, 5, 5, 5,\n",
       "        5, 5, 5, 5, 5, 5, 5, 5, 5, 5, 5, 5, 5, 5, 5, 5, 5, 5, 5, 5, 5, 5, 5, 5,\n",
       "        5, 5, 5, 5, 5, 5, 5, 5, 5, 5, 5, 5, 5, 5, 5, 5, 5, 5, 5, 5, 5, 5, 5, 5,\n",
       "        5, 5, 5, 5, 5, 5, 5, 5, 5, 5, 5, 5, 5, 5, 5, 5, 5, 5, 5, 5, 5, 5, 5, 5,\n",
       "        5, 5, 5, 5, 5, 5, 5, 5, 5, 5, 5, 5, 5, 5, 5, 5, 5, 5, 5, 5, 5, 5, 5, 5,\n",
       "        5, 5, 5, 5, 5, 5, 5, 5, 5, 5, 0, 0, 0, 0, 0, 0, 0, 0, 0, 7, 7, 7, 7, 7,\n",
       "        7, 7, 2, 2, 2, 8, 8, 4, 4, 4, 4, 4, 4, 4, 4, 4, 4, 4, 5, 5])"
      ]
     },
     "execution_count": 45,
     "metadata": {},
     "output_type": "execute_result"
    }
   ],
   "source": [
    "g_node_types"
   ]
  }
 ],
 "metadata": {
  "kernelspec": {
   "display_name": "base",
   "language": "python",
   "name": "python3"
  },
  "language_info": {
   "codemirror_mode": {
    "name": "ipython",
    "version": 3
   },
   "file_extension": ".py",
   "mimetype": "text/x-python",
   "name": "python",
   "nbconvert_exporter": "python",
   "pygments_lexer": "ipython3",
   "version": "3.10.12"
  },
  "orig_nbformat": 4,
  "vscode": {
   "interpreter": {
    "hash": "d4d1e4263499bec80672ea0156c357c1ee493ec2b1c70f0acce89fc37c4a6abe"
   }
  }
 },
 "nbformat": 4,
 "nbformat_minor": 2
}
